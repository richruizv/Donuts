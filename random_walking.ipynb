{
  "nbformat": 4,
  "nbformat_minor": 0,
  "metadata": {
    "colab": {
      "name": "random walking.ipynb",
      "provenance": [],
      "authorship_tag": "ABX9TyPDilVqy7jRV2lRwFyDqFmm",
      "include_colab_link": true
    },
    "kernelspec": {
      "name": "python3",
      "display_name": "Python 3"
    },
    "language_info": {
      "name": "python"
    }
  },
  "cells": [
    {
      "cell_type": "markdown",
      "metadata": {
        "id": "view-in-github",
        "colab_type": "text"
      },
      "source": [
        "<a href=\"https://colab.research.google.com/github/richruizv/Donuts/blob/main/random_walking.ipynb\" target=\"_parent\"><img src=\"https://colab.research.google.com/assets/colab-badge.svg\" alt=\"Open In Colab\"/></a>"
      ]
    },
    {
      "cell_type": "markdown",
      "metadata": {
        "id": "p0X1-kDLs5zx"
      },
      "source": [
        "#Random walking\n",
        "---\n",
        "In this exercise we will see how to simulate a random walking\n",
        "\n",
        "\n",
        "\n"
      ]
    },
    {
      "cell_type": "markdown",
      "metadata": {
        "id": "6YSz-YiZuFJ4"
      },
      "source": [
        "\n",
        "\n",
        "## 1. Simulate the bet\n",
        "Firt we are going to make the function that simulates the bet of a gambler\n",
        "\n",
        "\n"
      ]
    },
    {
      "cell_type": "code",
      "metadata": {
        "colab": {
          "base_uri": "https://localhost:8080/"
        },
        "id": "g-Q3wAg8uF6G",
        "outputId": "33d467c2-926c-44c3-c43c-2b7b6c44b086"
      },
      "source": [
        "#Importing libraries\n",
        "import numpy as np\n",
        "import random as rd\n",
        "\n",
        "def flip_coin(prob): #1: head #0 tails\n",
        "  return 1 if rd.random() < prob else 0\n",
        "\n",
        "\n",
        "#creating the function with a default probability, params: money of the gambler of probability of success\n",
        "def gamble_on_coin(money=20,prob=0.5):\n",
        "  \n",
        "  # The list that we save the results of each \n",
        "  list_money = [money]\n",
        "\n",
        "\n",
        "  while money < 30 and money > 0:\n",
        "    coin_flipped =  flip_coin(prob)\n",
        "    if coin_flipped == 1: #if head, gambler wins, otherwise he losses\n",
        "      money += 1\n",
        "    elif coin_flipped == 0:\n",
        "      money -= 1\n",
        "    list_money.append(money)\n",
        "    \n",
        "  if money == 30: \n",
        "    win = True\n",
        "  else:\n",
        "    win = False\n",
        "  return list_money,win\n",
        "\n",
        "print(gamble_on_coin())\n"
      ],
      "execution_count": 354,
      "outputs": [
        {
          "output_type": "stream",
          "name": "stdout",
          "text": [
            "([20, 21, 20, 19, 18, 19, 18, 17, 16, 15, 16, 15, 14, 15, 16, 15, 16, 17, 16, 15, 16, 17, 18, 17, 16, 17, 18, 19, 18, 17, 16, 17, 16, 15, 14, 15, 16, 17, 18, 19, 18, 17, 16, 15, 16, 17, 18, 17, 16, 17, 18, 19, 20, 21, 22, 23, 22, 23, 22, 21, 22, 23, 22, 21, 22, 23, 22, 21, 20, 19, 18, 19, 20, 21, 22, 23, 22, 23, 24, 25, 26, 25, 24, 25, 24, 25, 24, 23, 24, 25, 26, 25, 24, 23, 24, 25, 26, 27, 28, 29, 28, 29, 28, 29, 28, 29, 30], True)\n"
          ]
        }
      ]
    },
    {
      "cell_type": "markdown",
      "metadata": {
        "id": "Q_12ivh0ApHK"
      },
      "source": [
        "## 2. Graph the result\n",
        "Once created the function we use Matplotlib to graph the result of a set of trials"
      ]
    },
    {
      "cell_type": "code",
      "metadata": {
        "colab": {
          "base_uri": "https://localhost:8080/",
          "height": 295
        },
        "id": "7Po2ZqODAdqX",
        "outputId": "dcf4cc44-4b48-4c18-821e-c1fd6551e258"
      },
      "source": [
        "import matplotlib.pyplot as plt\n",
        "\n",
        "\n",
        "#gambling with 25% of probability of wining\n",
        "gambles , result = gamble_on_coin(prob = 0.5)\n",
        "\n",
        "x = [i for i in range(len(gambles))]\n",
        "y = gambles\n",
        "\n",
        "plt.xlabel(\"Trials\")\n",
        "plt.ylabel(\"Money\")\n",
        "plt.title(\"Gambling with 50% of probability\")\n",
        "plt.plot(x,y,label = 'Gambles')\n",
        "plt.legend()\n",
        "plt.show()"
      ],
      "execution_count": 359,
      "outputs": [
        {
          "output_type": "display_data",
          "data": {
            "image/png": "[encoded data removed]",
            "text/plain": [
              "<Figure size 432x288 with 1 Axes>"
            ]
          },
          "metadata": {
            "needs_background": "light"
          }
        }
      ]
    },
    {
      "cell_type": "markdown",
      "metadata": {
        "id": "Q_cQTtEzF3Bm"
      },
      "source": [
        "## 3. Repeating the experiment multiple times\n",
        "We simulate this experiment multiple times, manipulate the coin toss's probability, and compare the results."
      ]
    },
    {
      "cell_type": "code",
      "metadata": {
        "colab": {
          "base_uri": "https://localhost:8080/"
        },
        "id": "-l3x4ySWF6e0",
        "outputId": "b21ed9c9-87d2-4d7e-85ce-ba2ec9a02d3d"
      },
      "source": [
        "import statistics as st\n",
        "\n",
        "# function to simulate a determined number of times the gamble\n",
        "def simulate_gamble(money= 20,size_experiment = 1000, prob=0.5):\n",
        "  success = fail = 0\n",
        "  media_success = media_fail = 0\n",
        "  list_success = []\n",
        "  list_fail = []\n",
        "  \n",
        "  for i in range(size_experiment):\n",
        "    gambles , result = gamble_on_coin(money, prob)\n",
        "    if (result == True):\n",
        "      success += 1\n",
        "      list_success.append(len(gambles))\n",
        "    else:\n",
        "      fail +=1\n",
        "      list_fail.append(len(gambles))\n",
        "  \n",
        "  \n",
        "  media_success = round(st.mean(list_success) if len(list_success)> 0 else 0,2)\n",
        "  media_fail = round(st.mean(list_fail) if len(list_fail) > 0 else 0,2)\n",
        "  \n",
        "  return success,media_success,fail,media_fail\n",
        "\n",
        "size_experiment = 1000\n",
        "\n",
        "prob1 = simulate_gamble(money,size_experiment,prob = 0.51)\n",
        "prob2 = simulate_gamble(money,size_experiment,prob=0.5)\n",
        "prob3 = simulate_gamble(money,size_experiment,prob=0.49)\n",
        "\n",
        "print(f\"Number of times that got broken with 49% probability of loss: {prob1[2]} out of {size_experiment}\")\n",
        "print(f\"Number of times that got broken with 50% probability of loss: {prob2[2]} out of {size_experiment}\")\n",
        "print(f\"Number of times that got broken with 51% probability of loss: {prob3[2]} out of {size_experiment}\")\n",
        "\n",
        "\n",
        "  \n",
        "\n"
      ],
      "execution_count": 361,
      "outputs": [
        {
          "output_type": "stream",
          "name": "stdout",
          "text": [
            "Number of times that got broken with 49% probability of loss: 223 out of 1000\n",
            "Number of times that got broken with 50% probability of loss: 330 out of 1000\n",
            "Number of times that got broken with 51% probability of loss: 477 out of 1000\n"
          ]
        }
      ]
    }
  ]
}